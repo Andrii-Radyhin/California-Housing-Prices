{
 "cells": [
  {
   "cell_type": "code",
   "execution_count": 59,
   "id": "b7cf1b2f-230d-4512-a4d3-42cfb9dcd336",
   "metadata": {},
   "outputs": [],
   "source": [
    "from sklearn.datasets import fetch_california_housing\n",
    "from sklearn.metrics import r2_score\n",
    "from sklearn.model_selection import GridSearchCV\n",
    "from sklearn.metrics import mean_squared_error\n",
    "from sklearn import preprocessing\n",
    "from sklearn.model_selection import train_test_split\n",
    "from sklearn.model_selection import RepeatedKFold\n",
    "\n",
    "import pandas as pd\n",
    "\n",
    "from sklearn.ensemble import RandomForestRegressor\n",
    "from sklearn.tree import DecisionTreeRegressor\n",
    "from sklearn.linear_model import Ridge\n",
    "from sklearn.linear_model import LinearRegression\n",
    "from sklearn.linear_model import Lasso\n",
    "from sklearn.neural_network import MLPRegressor\n",
    "from sklearn.ensemble import GradientBoostingRegressor\n",
    "\n",
    "california_housing = fetch_california_housing(as_frame=True)"
   ]
  },
  {
   "cell_type": "code",
   "execution_count": 2,
   "id": "cd5ec083-ab22-4690-8597-b0220d8f259a",
   "metadata": {},
   "outputs": [
    {
     "data": {
      "text/html": [
       "<div>\n",
       "<style scoped>\n",
       "    .dataframe tbody tr th:only-of-type {\n",
       "        vertical-align: middle;\n",
       "    }\n",
       "\n",
       "    .dataframe tbody tr th {\n",
       "        vertical-align: top;\n",
       "    }\n",
       "\n",
       "    .dataframe thead th {\n",
       "        text-align: right;\n",
       "    }\n",
       "</style>\n",
       "<table border=\"1\" class=\"dataframe\">\n",
       "  <thead>\n",
       "    <tr style=\"text-align: right;\">\n",
       "      <th></th>\n",
       "      <th>MedInc</th>\n",
       "      <th>HouseAge</th>\n",
       "      <th>AveRooms</th>\n",
       "      <th>AveBedrms</th>\n",
       "      <th>Population</th>\n",
       "      <th>AveOccup</th>\n",
       "      <th>Latitude</th>\n",
       "      <th>Longitude</th>\n",
       "      <th>MedHouseVal</th>\n",
       "    </tr>\n",
       "  </thead>\n",
       "  <tbody>\n",
       "    <tr>\n",
       "      <th>0</th>\n",
       "      <td>8.3252</td>\n",
       "      <td>41.0</td>\n",
       "      <td>6.984127</td>\n",
       "      <td>1.023810</td>\n",
       "      <td>322.0</td>\n",
       "      <td>2.555556</td>\n",
       "      <td>37.88</td>\n",
       "      <td>-122.23</td>\n",
       "      <td>4.526</td>\n",
       "    </tr>\n",
       "    <tr>\n",
       "      <th>1</th>\n",
       "      <td>8.3014</td>\n",
       "      <td>21.0</td>\n",
       "      <td>6.238137</td>\n",
       "      <td>0.971880</td>\n",
       "      <td>2401.0</td>\n",
       "      <td>2.109842</td>\n",
       "      <td>37.86</td>\n",
       "      <td>-122.22</td>\n",
       "      <td>3.585</td>\n",
       "    </tr>\n",
       "    <tr>\n",
       "      <th>2</th>\n",
       "      <td>7.2574</td>\n",
       "      <td>52.0</td>\n",
       "      <td>8.288136</td>\n",
       "      <td>1.073446</td>\n",
       "      <td>496.0</td>\n",
       "      <td>2.802260</td>\n",
       "      <td>37.85</td>\n",
       "      <td>-122.24</td>\n",
       "      <td>3.521</td>\n",
       "    </tr>\n",
       "    <tr>\n",
       "      <th>3</th>\n",
       "      <td>5.6431</td>\n",
       "      <td>52.0</td>\n",
       "      <td>5.817352</td>\n",
       "      <td>1.073059</td>\n",
       "      <td>558.0</td>\n",
       "      <td>2.547945</td>\n",
       "      <td>37.85</td>\n",
       "      <td>-122.25</td>\n",
       "      <td>3.413</td>\n",
       "    </tr>\n",
       "    <tr>\n",
       "      <th>4</th>\n",
       "      <td>3.8462</td>\n",
       "      <td>52.0</td>\n",
       "      <td>6.281853</td>\n",
       "      <td>1.081081</td>\n",
       "      <td>565.0</td>\n",
       "      <td>2.181467</td>\n",
       "      <td>37.85</td>\n",
       "      <td>-122.25</td>\n",
       "      <td>3.422</td>\n",
       "    </tr>\n",
       "    <tr>\n",
       "      <th>...</th>\n",
       "      <td>...</td>\n",
       "      <td>...</td>\n",
       "      <td>...</td>\n",
       "      <td>...</td>\n",
       "      <td>...</td>\n",
       "      <td>...</td>\n",
       "      <td>...</td>\n",
       "      <td>...</td>\n",
       "      <td>...</td>\n",
       "    </tr>\n",
       "    <tr>\n",
       "      <th>20635</th>\n",
       "      <td>1.5603</td>\n",
       "      <td>25.0</td>\n",
       "      <td>5.045455</td>\n",
       "      <td>1.133333</td>\n",
       "      <td>845.0</td>\n",
       "      <td>2.560606</td>\n",
       "      <td>39.48</td>\n",
       "      <td>-121.09</td>\n",
       "      <td>0.781</td>\n",
       "    </tr>\n",
       "    <tr>\n",
       "      <th>20636</th>\n",
       "      <td>2.5568</td>\n",
       "      <td>18.0</td>\n",
       "      <td>6.114035</td>\n",
       "      <td>1.315789</td>\n",
       "      <td>356.0</td>\n",
       "      <td>3.122807</td>\n",
       "      <td>39.49</td>\n",
       "      <td>-121.21</td>\n",
       "      <td>0.771</td>\n",
       "    </tr>\n",
       "    <tr>\n",
       "      <th>20637</th>\n",
       "      <td>1.7000</td>\n",
       "      <td>17.0</td>\n",
       "      <td>5.205543</td>\n",
       "      <td>1.120092</td>\n",
       "      <td>1007.0</td>\n",
       "      <td>2.325635</td>\n",
       "      <td>39.43</td>\n",
       "      <td>-121.22</td>\n",
       "      <td>0.923</td>\n",
       "    </tr>\n",
       "    <tr>\n",
       "      <th>20638</th>\n",
       "      <td>1.8672</td>\n",
       "      <td>18.0</td>\n",
       "      <td>5.329513</td>\n",
       "      <td>1.171920</td>\n",
       "      <td>741.0</td>\n",
       "      <td>2.123209</td>\n",
       "      <td>39.43</td>\n",
       "      <td>-121.32</td>\n",
       "      <td>0.847</td>\n",
       "    </tr>\n",
       "    <tr>\n",
       "      <th>20639</th>\n",
       "      <td>2.3886</td>\n",
       "      <td>16.0</td>\n",
       "      <td>5.254717</td>\n",
       "      <td>1.162264</td>\n",
       "      <td>1387.0</td>\n",
       "      <td>2.616981</td>\n",
       "      <td>39.37</td>\n",
       "      <td>-121.24</td>\n",
       "      <td>0.894</td>\n",
       "    </tr>\n",
       "  </tbody>\n",
       "</table>\n",
       "<p>20640 rows × 9 columns</p>\n",
       "</div>"
      ],
      "text/plain": [
       "       MedInc  HouseAge  AveRooms  AveBedrms  Population  AveOccup  Latitude  \\\n",
       "0      8.3252      41.0  6.984127   1.023810       322.0  2.555556     37.88   \n",
       "1      8.3014      21.0  6.238137   0.971880      2401.0  2.109842     37.86   \n",
       "2      7.2574      52.0  8.288136   1.073446       496.0  2.802260     37.85   \n",
       "3      5.6431      52.0  5.817352   1.073059       558.0  2.547945     37.85   \n",
       "4      3.8462      52.0  6.281853   1.081081       565.0  2.181467     37.85   \n",
       "...       ...       ...       ...        ...         ...       ...       ...   \n",
       "20635  1.5603      25.0  5.045455   1.133333       845.0  2.560606     39.48   \n",
       "20636  2.5568      18.0  6.114035   1.315789       356.0  3.122807     39.49   \n",
       "20637  1.7000      17.0  5.205543   1.120092      1007.0  2.325635     39.43   \n",
       "20638  1.8672      18.0  5.329513   1.171920       741.0  2.123209     39.43   \n",
       "20639  2.3886      16.0  5.254717   1.162264      1387.0  2.616981     39.37   \n",
       "\n",
       "       Longitude  MedHouseVal  \n",
       "0        -122.23        4.526  \n",
       "1        -122.22        3.585  \n",
       "2        -122.24        3.521  \n",
       "3        -122.25        3.413  \n",
       "4        -122.25        3.422  \n",
       "...          ...          ...  \n",
       "20635    -121.09        0.781  \n",
       "20636    -121.21        0.771  \n",
       "20637    -121.22        0.923  \n",
       "20638    -121.32        0.847  \n",
       "20639    -121.24        0.894  \n",
       "\n",
       "[20640 rows x 9 columns]"
      ]
     },
     "execution_count": 2,
     "metadata": {},
     "output_type": "execute_result"
    }
   ],
   "source": [
    "california_housing.frame"
   ]
  },
  {
   "cell_type": "code",
   "execution_count": 3,
   "id": "198ecc4e-7d0d-41a4-b798-672cff99ef41",
   "metadata": {},
   "outputs": [],
   "source": [
    "def visualize_metrics(y_test, y_pred):\n",
    "    print(\"R2 : \", r2_score(y_test, y_pred),'\\n'\n",
    "     \"MSE: \", mean_squared_error(y_test, y_pred),\"\\n\",\n",
    "     \"RMSE: \", mean_squared_error(y_test, y_pred, squared = False))"
   ]
  },
  {
   "cell_type": "markdown",
   "id": "35a46cf0-0678-41ee-b97a-91b8888d0a74",
   "metadata": {},
   "source": [
    "### Without preprocessing"
   ]
  },
  {
   "cell_type": "code",
   "execution_count": 18,
   "id": "ee792bec-5223-4d8e-91b7-f410191dcad3",
   "metadata": {},
   "outputs": [],
   "source": [
    "X = california_housing.frame.drop(columns = ['MedHouseVal'])\n",
    "Y = california_housing.frame['MedHouseVal']\n",
    "\n",
    "x_train, x_test, y_train, y_test = train_test_split(X, Y, test_size = 0.2, random_state=45)"
   ]
  },
  {
   "cell_type": "markdown",
   "id": "6202ff94-caf7-4cf1-8147-6cd95c966069",
   "metadata": {},
   "source": [
    "#### Decision Tree"
   ]
  },
  {
   "cell_type": "code",
   "execution_count": 7,
   "id": "e559a502-13f1-4bc4-89de-fd0523339e70",
   "metadata": {},
   "outputs": [
    {
     "name": "stdout",
     "output_type": "stream",
     "text": [
      "Training score :  0.6287954685947139\n",
      "R2 :  0.6183213705485122 \n",
      "MSE:  0.506460585172765 \n",
      " RMSE:  0.7116604423267918\n"
     ]
    }
   ],
   "source": [
    "tree_regressor = DecisionTreeRegressor(max_depth = 5).fit(x_train, y_train)\n",
    "\n",
    "print(\"Training score : \", tree_regressor.score(x_train, y_train))\n",
    "\n",
    "y_pred = tree_regressor.predict(x_test)\n",
    "visualize_metrics(y_test, y_pred)\n",
    "\n"
   ]
  },
  {
   "cell_type": "code",
   "execution_count": 6,
   "id": "e11b433b-be27-4866-80eb-bc1a1c921b78",
   "metadata": {},
   "outputs": [
    {
     "name": "stdout",
     "output_type": "stream",
     "text": [
      "The best score 0.4812874665130862\n",
      "The best parameters {'max_depth': 5}\n"
     ]
    }
   ],
   "source": [
    "# hyper-Parameters Tuning\n",
    "\n",
    "tree_regressor_parameter = {'max_depth': [2,3,4,5,6,7,8,9,10]}\n",
    "tree_regressor_grid_search = GridSearchCV(DecisionTreeRegressor(), tree_regressor_parameter, cv = 2)\n",
    "tree_regressor_grid_search.fit(X, Y)\n",
    "print('The best score',tree_regressor_grid_search.best_score_)\n",
    "print('The best parameters',tree_regressor_grid_search.best_params_)"
   ]
  },
  {
   "cell_type": "markdown",
   "id": "26cdcea0-88bf-4726-8b89-0cd08045db33",
   "metadata": {},
   "source": [
    "#### Random Forests"
   ]
  },
  {
   "cell_type": "code",
   "execution_count": 13,
   "id": "6fff879d-fd1c-4d59-8796-34be026809a9",
   "metadata": {},
   "outputs": [
    {
     "name": "stdout",
     "output_type": "stream",
     "text": [
      "R2 :  0.816710576402612 \n",
      "MSE:  0.24321212027122593 \n",
      " RMSE:  0.4931654086320592\n"
     ]
    }
   ],
   "source": [
    "clf = RandomForestRegressor(n_estimators=75)\n",
    "clf.fit(x_train, y_train)\n",
    "\n",
    "y_pred=clf.predict(x_test)\n",
    "\n",
    "visualize_metrics(y_test, y_pred)"
   ]
  },
  {
   "cell_type": "code",
   "execution_count": 11,
   "id": "d8b7bb0f-88b9-4316-90eb-c19e8b67ea96",
   "metadata": {},
   "outputs": [
    {
     "name": "stdout",
     "output_type": "stream",
     "text": [
      "The best score 0.601726179076523\n",
      "The best parameters {'n_estimators': 75}\n"
     ]
    }
   ],
   "source": [
    "random_forest_parameter = {'n_estimators': [10,25,50,75,100]}\n",
    "random_forest_grid_search = GridSearchCV(RandomForestRegressor(), random_forest_parameter, cv = 2)\n",
    "random_forest_grid_search.fit(X, Y)\n",
    "print('The best score',random_forest_grid_search.best_score_)\n",
    "print('The best parameters',random_forest_grid_search.best_params_)"
   ]
  },
  {
   "cell_type": "markdown",
   "id": "b8a03cbf-a2b3-45a0-927e-c673775ea244",
   "metadata": {},
   "source": [
    "#### Gradient Boosting"
   ]
  },
  {
   "cell_type": "code",
   "execution_count": 60,
   "id": "5ba746c6-4350-4647-bc90-5fbd549915e8",
   "metadata": {},
   "outputs": [
    {
     "name": "stdout",
     "output_type": "stream",
     "text": [
      "R2 :  0.8436412311966435 \n",
      "MSE:  0.2074770433410031 \n",
      " RMSE:  0.4554964800533623\n"
     ]
    }
   ],
   "source": [
    "gb = GradientBoostingRegressor(learning_rate = 0.1, max_depth = 9, n_estimators = 100, subsample = 0.7, random_state=0)\n",
    "gb.fit(x_train, y_train)\n",
    "\n",
    "y_pred = gb.predict(x_test)\n",
    "visualize_metrics(y_test, y_pred)"
   ]
  },
  {
   "cell_type": "code",
   "execution_count": 61,
   "id": "e9c26aa0-500c-487b-b536-87fe52301982",
   "metadata": {},
   "outputs": [
    {
     "name": "stdout",
     "output_type": "stream",
     "text": [
      "Best: 0.840177 using {'learning_rate': 0.1, 'max_depth': 9, 'n_estimators': 100, 'subsample': 0.7}\n",
      "0.000604 (0.000481) with: {'learning_rate': 0.0001, 'max_depth': 3, 'n_estimators': 10, 'subsample': 0.5}\n",
      "0.000604 (0.000480) with: {'learning_rate': 0.0001, 'max_depth': 3, 'n_estimators': 10, 'subsample': 0.7}\n",
      "0.000604 (0.000481) with: {'learning_rate': 0.0001, 'max_depth': 3, 'n_estimators': 10, 'subsample': 1.0}\n",
      "0.004824 (0.000472) with: {'learning_rate': 0.0001, 'max_depth': 3, 'n_estimators': 50, 'subsample': 0.5}\n",
      "0.004819 (0.000473) with: {'learning_rate': 0.0001, 'max_depth': 3, 'n_estimators': 50, 'subsample': 0.7}\n",
      "0.004814 (0.000474) with: {'learning_rate': 0.0001, 'max_depth': 3, 'n_estimators': 50, 'subsample': 1.0}\n",
      "0.010050 (0.000492) with: {'learning_rate': 0.0001, 'max_depth': 3, 'n_estimators': 100, 'subsample': 0.5}\n",
      "0.010039 (0.000490) with: {'learning_rate': 0.0001, 'max_depth': 3, 'n_estimators': 100, 'subsample': 0.7}\n",
      "0.010032 (0.000495) with: {'learning_rate': 0.0001, 'max_depth': 3, 'n_estimators': 100, 'subsample': 1.0}\n",
      "0.000926 (0.000482) with: {'learning_rate': 0.0001, 'max_depth': 7, 'n_estimators': 10, 'subsample': 0.5}\n",
      "0.000927 (0.000482) with: {'learning_rate': 0.0001, 'max_depth': 7, 'n_estimators': 10, 'subsample': 0.7}\n",
      "0.000926 (0.000484) with: {'learning_rate': 0.0001, 'max_depth': 7, 'n_estimators': 10, 'subsample': 1.0}\n",
      "0.006417 (0.000481) with: {'learning_rate': 0.0001, 'max_depth': 7, 'n_estimators': 50, 'subsample': 0.5}\n",
      "0.006427 (0.000474) with: {'learning_rate': 0.0001, 'max_depth': 7, 'n_estimators': 50, 'subsample': 0.7}\n",
      "0.006422 (0.000494) with: {'learning_rate': 0.0001, 'max_depth': 7, 'n_estimators': 50, 'subsample': 1.0}\n",
      "0.013238 (0.000501) with: {'learning_rate': 0.0001, 'max_depth': 7, 'n_estimators': 100, 'subsample': 0.5}\n",
      "0.013241 (0.000502) with: {'learning_rate': 0.0001, 'max_depth': 7, 'n_estimators': 100, 'subsample': 0.7}\n",
      "0.013231 (0.000541) with: {'learning_rate': 0.0001, 'max_depth': 7, 'n_estimators': 100, 'subsample': 1.0}\n",
      "0.001019 (0.000484) with: {'learning_rate': 0.0001, 'max_depth': 9, 'n_estimators': 10, 'subsample': 0.5}\n",
      "0.001028 (0.000485) with: {'learning_rate': 0.0001, 'max_depth': 9, 'n_estimators': 10, 'subsample': 0.7}\n",
      "0.001035 (0.000485) with: {'learning_rate': 0.0001, 'max_depth': 9, 'n_estimators': 10, 'subsample': 1.0}\n",
      "0.006900 (0.000480) with: {'learning_rate': 0.0001, 'max_depth': 9, 'n_estimators': 50, 'subsample': 0.5}\n",
      "0.006931 (0.000476) with: {'learning_rate': 0.0001, 'max_depth': 9, 'n_estimators': 50, 'subsample': 0.7}\n",
      "0.006961 (0.000496) with: {'learning_rate': 0.0001, 'max_depth': 9, 'n_estimators': 50, 'subsample': 1.0}\n",
      "0.014174 (0.000496) with: {'learning_rate': 0.0001, 'max_depth': 9, 'n_estimators': 100, 'subsample': 0.5}\n",
      "0.014253 (0.000492) with: {'learning_rate': 0.0001, 'max_depth': 9, 'n_estimators': 100, 'subsample': 0.7}\n",
      "0.014303 (0.000537) with: {'learning_rate': 0.0001, 'max_depth': 9, 'n_estimators': 100, 'subsample': 1.0}\n",
      "0.010058 (0.000492) with: {'learning_rate': 0.001, 'max_depth': 3, 'n_estimators': 10, 'subsample': 0.5}\n",
      "0.010035 (0.000479) with: {'learning_rate': 0.001, 'max_depth': 3, 'n_estimators': 10, 'subsample': 0.7}\n",
      "0.010036 (0.000495) with: {'learning_rate': 0.001, 'max_depth': 3, 'n_estimators': 10, 'subsample': 1.0}\n",
      "0.050180 (0.001155) with: {'learning_rate': 0.001, 'max_depth': 3, 'n_estimators': 50, 'subsample': 0.5}\n",
      "0.050084 (0.001148) with: {'learning_rate': 0.001, 'max_depth': 3, 'n_estimators': 50, 'subsample': 0.7}\n",
      "0.050016 (0.001143) with: {'learning_rate': 0.001, 'max_depth': 3, 'n_estimators': 50, 'subsample': 1.0}\n",
      "0.096411 (0.002156) with: {'learning_rate': 0.001, 'max_depth': 3, 'n_estimators': 100, 'subsample': 0.5}\n",
      "0.096182 (0.002152) with: {'learning_rate': 0.001, 'max_depth': 3, 'n_estimators': 100, 'subsample': 0.7}\n",
      "0.095893 (0.002157) with: {'learning_rate': 0.001, 'max_depth': 3, 'n_estimators': 100, 'subsample': 1.0}\n",
      "0.013229 (0.000508) with: {'learning_rate': 0.001, 'max_depth': 7, 'n_estimators': 10, 'subsample': 0.5}\n",
      "0.013243 (0.000503) with: {'learning_rate': 0.001, 'max_depth': 7, 'n_estimators': 10, 'subsample': 0.7}\n",
      "0.013237 (0.000539) with: {'learning_rate': 0.001, 'max_depth': 7, 'n_estimators': 10, 'subsample': 1.0}\n",
      "0.065560 (0.001101) with: {'learning_rate': 0.001, 'max_depth': 7, 'n_estimators': 50, 'subsample': 0.5}\n",
      "0.065547 (0.001166) with: {'learning_rate': 0.001, 'max_depth': 7, 'n_estimators': 50, 'subsample': 0.7}\n",
      "0.065230 (0.001364) with: {'learning_rate': 0.001, 'max_depth': 7, 'n_estimators': 50, 'subsample': 1.0}\n",
      "0.125671 (0.002046) with: {'learning_rate': 0.001, 'max_depth': 7, 'n_estimators': 100, 'subsample': 0.5}\n",
      "0.125610 (0.002035) with: {'learning_rate': 0.001, 'max_depth': 7, 'n_estimators': 100, 'subsample': 0.7}\n",
      "0.124849 (0.002413) with: {'learning_rate': 0.001, 'max_depth': 7, 'n_estimators': 100, 'subsample': 1.0}\n",
      "0.014200 (0.000520) with: {'learning_rate': 0.001, 'max_depth': 9, 'n_estimators': 10, 'subsample': 0.5}\n",
      "0.014252 (0.000532) with: {'learning_rate': 0.001, 'max_depth': 9, 'n_estimators': 10, 'subsample': 0.7}\n",
      "0.014310 (0.000540) with: {'learning_rate': 0.001, 'max_depth': 9, 'n_estimators': 10, 'subsample': 1.0}\n",
      "0.070066 (0.001043) with: {'learning_rate': 0.001, 'max_depth': 9, 'n_estimators': 50, 'subsample': 0.5}\n",
      "0.070371 (0.001011) with: {'learning_rate': 0.001, 'max_depth': 9, 'n_estimators': 50, 'subsample': 0.7}\n",
      "0.070451 (0.001206) with: {'learning_rate': 0.001, 'max_depth': 9, 'n_estimators': 50, 'subsample': 1.0}\n",
      "0.134132 (0.001883) with: {'learning_rate': 0.001, 'max_depth': 9, 'n_estimators': 100, 'subsample': 0.5}\n",
      "0.134780 (0.001823) with: {'learning_rate': 0.001, 'max_depth': 9, 'n_estimators': 100, 'subsample': 0.7}\n",
      "0.134650 (0.002162) with: {'learning_rate': 0.001, 'max_depth': 9, 'n_estimators': 100, 'subsample': 1.0}\n",
      "0.096684 (0.002319) with: {'learning_rate': 0.01, 'max_depth': 3, 'n_estimators': 10, 'subsample': 0.5}\n",
      "0.096618 (0.002188) with: {'learning_rate': 0.01, 'max_depth': 3, 'n_estimators': 10, 'subsample': 0.7}\n",
      "0.096264 (0.002156) with: {'learning_rate': 0.01, 'max_depth': 3, 'n_estimators': 10, 'subsample': 1.0}\n",
      "0.351930 (0.007826) with: {'learning_rate': 0.01, 'max_depth': 3, 'n_estimators': 50, 'subsample': 0.5}\n",
      "0.351361 (0.007719) with: {'learning_rate': 0.01, 'max_depth': 3, 'n_estimators': 50, 'subsample': 0.7}\n",
      "0.350539 (0.007618) with: {'learning_rate': 0.01, 'max_depth': 3, 'n_estimators': 50, 'subsample': 1.0}\n",
      "0.506372 (0.010490) with: {'learning_rate': 0.01, 'max_depth': 3, 'n_estimators': 100, 'subsample': 0.5}\n",
      "0.505130 (0.010672) with: {'learning_rate': 0.01, 'max_depth': 3, 'n_estimators': 100, 'subsample': 0.7}\n",
      "0.503779 (0.010359) with: {'learning_rate': 0.01, 'max_depth': 3, 'n_estimators': 100, 'subsample': 1.0}\n",
      "0.126133 (0.002133) with: {'learning_rate': 0.01, 'max_depth': 7, 'n_estimators': 10, 'subsample': 0.5}\n",
      "0.126064 (0.002103) with: {'learning_rate': 0.01, 'max_depth': 7, 'n_estimators': 10, 'subsample': 0.7}\n",
      "0.125339 (0.002446) with: {'learning_rate': 0.01, 'max_depth': 7, 'n_estimators': 10, 'subsample': 1.0}\n",
      "0.452858 (0.006847) with: {'learning_rate': 0.01, 'max_depth': 7, 'n_estimators': 50, 'subsample': 0.5}\n",
      "0.452492 (0.006816) with: {'learning_rate': 0.01, 'max_depth': 7, 'n_estimators': 50, 'subsample': 0.7}\n",
      "0.451036 (0.006904) with: {'learning_rate': 0.01, 'max_depth': 7, 'n_estimators': 50, 'subsample': 1.0}\n",
      "0.640457 (0.008562) with: {'learning_rate': 0.01, 'max_depth': 7, 'n_estimators': 100, 'subsample': 0.5}\n",
      "0.639361 (0.008543) with: {'learning_rate': 0.01, 'max_depth': 7, 'n_estimators': 100, 'subsample': 0.7}\n",
      "0.636086 (0.009293) with: {'learning_rate': 0.01, 'max_depth': 7, 'n_estimators': 100, 'subsample': 1.0}\n",
      "0.134834 (0.002244) with: {'learning_rate': 0.01, 'max_depth': 9, 'n_estimators': 10, 'subsample': 0.5}\n",
      "0.135121 (0.001991) with: {'learning_rate': 0.01, 'max_depth': 9, 'n_estimators': 10, 'subsample': 0.7}\n",
      "0.135190 (0.002181) with: {'learning_rate': 0.01, 'max_depth': 9, 'n_estimators': 10, 'subsample': 1.0}\n",
      "0.480047 (0.006007) with: {'learning_rate': 0.01, 'max_depth': 9, 'n_estimators': 50, 'subsample': 0.5}\n",
      "0.481012 (0.006195) with: {'learning_rate': 0.01, 'max_depth': 9, 'n_estimators': 50, 'subsample': 0.7}\n",
      "0.480059 (0.006296) with: {'learning_rate': 0.01, 'max_depth': 9, 'n_estimators': 50, 'subsample': 1.0}\n",
      "0.671194 (0.008360) with: {'learning_rate': 0.01, 'max_depth': 9, 'n_estimators': 100, 'subsample': 0.5}\n",
      "0.672147 (0.008437) with: {'learning_rate': 0.01, 'max_depth': 9, 'n_estimators': 100, 'subsample': 0.7}\n",
      "0.669047 (0.008671) with: {'learning_rate': 0.01, 'max_depth': 9, 'n_estimators': 100, 'subsample': 1.0}\n",
      "0.513375 (0.011008) with: {'learning_rate': 0.1, 'max_depth': 3, 'n_estimators': 10, 'subsample': 0.5}\n",
      "0.512336 (0.010896) with: {'learning_rate': 0.1, 'max_depth': 3, 'n_estimators': 10, 'subsample': 0.7}\n",
      "0.511479 (0.010957) with: {'learning_rate': 0.1, 'max_depth': 3, 'n_estimators': 10, 'subsample': 1.0}\n",
      "0.756716 (0.010500) with: {'learning_rate': 0.1, 'max_depth': 3, 'n_estimators': 50, 'subsample': 0.5}\n",
      "0.755633 (0.010991) with: {'learning_rate': 0.1, 'max_depth': 3, 'n_estimators': 50, 'subsample': 0.7}\n",
      "0.755095 (0.011069) with: {'learning_rate': 0.1, 'max_depth': 3, 'n_estimators': 50, 'subsample': 1.0}\n",
      "0.786233 (0.010888) with: {'learning_rate': 0.1, 'max_depth': 3, 'n_estimators': 100, 'subsample': 0.5}\n",
      "0.787609 (0.011833) with: {'learning_rate': 0.1, 'max_depth': 3, 'n_estimators': 100, 'subsample': 0.7}\n",
      "0.787752 (0.011227) with: {'learning_rate': 0.1, 'max_depth': 3, 'n_estimators': 100, 'subsample': 1.0}\n",
      "0.645861 (0.008968) with: {'learning_rate': 0.1, 'max_depth': 7, 'n_estimators': 10, 'subsample': 0.5}\n",
      "0.645470 (0.010060) with: {'learning_rate': 0.1, 'max_depth': 7, 'n_estimators': 10, 'subsample': 0.7}\n",
      "0.645541 (0.009981) with: {'learning_rate': 0.1, 'max_depth': 7, 'n_estimators': 10, 'subsample': 1.0}\n",
      "0.821190 (0.009741) with: {'learning_rate': 0.1, 'max_depth': 7, 'n_estimators': 50, 'subsample': 0.5}\n",
      "0.824477 (0.009823) with: {'learning_rate': 0.1, 'max_depth': 7, 'n_estimators': 50, 'subsample': 0.7}\n",
      "0.824130 (0.010594) with: {'learning_rate': 0.1, 'max_depth': 7, 'n_estimators': 50, 'subsample': 1.0}\n",
      "0.833189 (0.010580) with: {'learning_rate': 0.1, 'max_depth': 7, 'n_estimators': 100, 'subsample': 0.5}\n",
      "0.838321 (0.009670) with: {'learning_rate': 0.1, 'max_depth': 7, 'n_estimators': 100, 'subsample': 0.7}\n",
      "0.837633 (0.010408) with: {'learning_rate': 0.1, 'max_depth': 7, 'n_estimators': 100, 'subsample': 1.0}\n",
      "0.674217 (0.008502) with: {'learning_rate': 0.1, 'max_depth': 9, 'n_estimators': 10, 'subsample': 0.5}\n",
      "0.678362 (0.009412) with: {'learning_rate': 0.1, 'max_depth': 9, 'n_estimators': 10, 'subsample': 0.7}\n",
      "0.677380 (0.008721) with: {'learning_rate': 0.1, 'max_depth': 9, 'n_estimators': 10, 'subsample': 1.0}\n",
      "0.827663 (0.010539) with: {'learning_rate': 0.1, 'max_depth': 9, 'n_estimators': 50, 'subsample': 0.5}\n",
      "0.832967 (0.009397) with: {'learning_rate': 0.1, 'max_depth': 9, 'n_estimators': 50, 'subsample': 0.7}\n",
      "0.830964 (0.009976) with: {'learning_rate': 0.1, 'max_depth': 9, 'n_estimators': 50, 'subsample': 1.0}\n",
      "0.836150 (0.009551) with: {'learning_rate': 0.1, 'max_depth': 9, 'n_estimators': 100, 'subsample': 0.5}\n",
      "0.840177 (0.009175) with: {'learning_rate': 0.1, 'max_depth': 9, 'n_estimators': 100, 'subsample': 0.7}\n",
      "0.838792 (0.009813) with: {'learning_rate': 0.1, 'max_depth': 9, 'n_estimators': 100, 'subsample': 1.0}\n",
      "0.736917 (0.015439) with: {'learning_rate': 1.0, 'max_depth': 3, 'n_estimators': 10, 'subsample': 0.5}\n",
      "0.745197 (0.014018) with: {'learning_rate': 1.0, 'max_depth': 3, 'n_estimators': 10, 'subsample': 0.7}\n",
      "0.748143 (0.013757) with: {'learning_rate': 1.0, 'max_depth': 3, 'n_estimators': 10, 'subsample': 1.0}\n",
      "0.717955 (0.034090) with: {'learning_rate': 1.0, 'max_depth': 3, 'n_estimators': 50, 'subsample': 0.5}\n",
      "0.769017 (0.014371) with: {'learning_rate': 1.0, 'max_depth': 3, 'n_estimators': 50, 'subsample': 0.7}\n",
      "0.795377 (0.012752) with: {'learning_rate': 1.0, 'max_depth': 3, 'n_estimators': 50, 'subsample': 1.0}\n",
      "0.712902 (0.028473) with: {'learning_rate': 1.0, 'max_depth': 3, 'n_estimators': 100, 'subsample': 0.5}\n",
      "0.760240 (0.014185) with: {'learning_rate': 1.0, 'max_depth': 3, 'n_estimators': 100, 'subsample': 0.7}\n",
      "0.797149 (0.012387) with: {'learning_rate': 1.0, 'max_depth': 3, 'n_estimators': 100, 'subsample': 1.0}\n",
      "0.656012 (0.028115) with: {'learning_rate': 1.0, 'max_depth': 7, 'n_estimators': 10, 'subsample': 0.5}\n",
      "0.701859 (0.024391) with: {'learning_rate': 1.0, 'max_depth': 7, 'n_estimators': 10, 'subsample': 0.7}\n",
      "0.739028 (0.021188) with: {'learning_rate': 1.0, 'max_depth': 7, 'n_estimators': 10, 'subsample': 1.0}\n",
      "0.370934 (0.078696) with: {'learning_rate': 1.0, 'max_depth': 7, 'n_estimators': 50, 'subsample': 0.5}\n",
      "0.573989 (0.024752) with: {'learning_rate': 1.0, 'max_depth': 7, 'n_estimators': 50, 'subsample': 0.7}\n",
      "0.695146 (0.020422) with: {'learning_rate': 1.0, 'max_depth': 7, 'n_estimators': 50, 'subsample': 1.0}\n",
      "0.106091 (0.167919) with: {'learning_rate': 1.0, 'max_depth': 7, 'n_estimators': 100, 'subsample': 0.5}\n",
      "0.482613 (0.041781) with: {'learning_rate': 1.0, 'max_depth': 7, 'n_estimators': 100, 'subsample': 0.7}\n",
      "0.676793 (0.020891) with: {'learning_rate': 1.0, 'max_depth': 7, 'n_estimators': 100, 'subsample': 1.0}\n",
      "0.541940 (0.070228) with: {'learning_rate': 1.0, 'max_depth': 9, 'n_estimators': 10, 'subsample': 0.5}\n",
      "0.627472 (0.026853) with: {'learning_rate': 1.0, 'max_depth': 9, 'n_estimators': 10, 'subsample': 0.7}\n",
      "0.687289 (0.022827) with: {'learning_rate': 1.0, 'max_depth': 9, 'n_estimators': 10, 'subsample': 1.0}\n",
      "0.079005 (0.099699) with: {'learning_rate': 1.0, 'max_depth': 9, 'n_estimators': 50, 'subsample': 0.5}\n",
      "0.430221 (0.036326) with: {'learning_rate': 1.0, 'max_depth': 9, 'n_estimators': 50, 'subsample': 0.7}\n",
      "0.636467 (0.025083) with: {'learning_rate': 1.0, 'max_depth': 9, 'n_estimators': 50, 'subsample': 1.0}\n",
      "-0.495269 (0.234997) with: {'learning_rate': 1.0, 'max_depth': 9, 'n_estimators': 100, 'subsample': 0.5}\n",
      "0.349767 (0.048639) with: {'learning_rate': 1.0, 'max_depth': 9, 'n_estimators': 100, 'subsample': 0.7}\n",
      "0.630500 (0.026933) with: {'learning_rate': 1.0, 'max_depth': 9, 'n_estimators': 100, 'subsample': 1.0}\n"
     ]
    }
   ],
   "source": [
    "model = GradientBoostingRegressor()\n",
    "grid = dict()\n",
    "grid['n_estimators'] = [10, 50, 100]\n",
    "grid['learning_rate'] = [0.0001, 0.001, 0.01, 0.1, 1.0]\n",
    "grid['subsample'] = [0.5, 0.7, 1.0]\n",
    "grid['max_depth'] = [3, 7, 9]\n",
    "# define the evaluation procedure\n",
    "cv = RepeatedKFold(n_splits=10, n_repeats=3, random_state=1)\n",
    "# define the grid search procedure\n",
    "grid_search = GridSearchCV(estimator=model, param_grid=grid, n_jobs=-1, cv=cv)\n",
    "# execute the grid search\n",
    "grid_result = grid_search.fit(X, Y)\n",
    "# summarize the best score and configuration\n",
    "print(\"Best: %f using %s\" % (grid_result.best_score_, grid_result.best_params_)) # summarize all scores that were evaluated\n",
    "means = grid_result.cv_results_['mean_test_score']\n",
    "stds = grid_result.cv_results_['std_test_score']\n",
    "params = grid_result.cv_results_['params']\n",
    "for mean, stdev, param in zip(means, stds, params):\n",
    "    print(\"%f (%f) with: %r\" % (mean, stdev, param))"
   ]
  },
  {
   "cell_type": "markdown",
   "id": "3e79de17-835a-4838-b93a-b59d12da3147",
   "metadata": {},
   "source": [
    "#### Linear Regression"
   ]
  },
  {
   "cell_type": "code",
   "execution_count": 12,
   "id": "d2da4491-daf9-4642-ad53-dbf198e6d5fc",
   "metadata": {},
   "outputs": [
    {
     "name": "stdout",
     "output_type": "stream",
     "text": [
      "Training score :  0.6058389654865454\n",
      "R2 :  0.6074054352929974 \n",
      "MSE:  0.5209452603172996 \n",
      " RMSE:  0.7217653776105498\n"
     ]
    }
   ],
   "source": [
    "linear_regressor = LinearRegression(fit_intercept = True, copy_X = True).fit(x_train, y_train)\n",
    "\n",
    "print(\"Training score : \", linear_regressor.score(x_train, y_train))\n",
    "\n",
    "y_pred = linear_regressor.predict(x_test)\n",
    "visualize_metrics(y_test, y_pred)"
   ]
  },
  {
   "cell_type": "code",
   "execution_count": 9,
   "id": "89a1d8fc-ab2c-4eba-971e-d1a6e62a58c2",
   "metadata": {},
   "outputs": [
    {
     "name": "stdout",
     "output_type": "stream",
     "text": [
      "The best score 0.5720433116500588\n",
      "The best parameters {'fit_intercept': True}\n"
     ]
    }
   ],
   "source": [
    "linear_regressor_parameter = {'fit_intercept': [True, False]}\n",
    "linear_regressor_grid_search = GridSearchCV(LinearRegression(), linear_regressor_parameter, cv = 2)\n",
    "linear_regressor_grid_search.fit(X, Y)\n",
    "print('The best score',linear_regressor_grid_search.best_score_)\n",
    "print('The best parameters',linear_regressor_grid_search.best_params_)"
   ]
  },
  {
   "cell_type": "markdown",
   "id": "b763429c-677e-4bed-82a1-67a09e69e65f",
   "metadata": {},
   "source": [
    "#### LASSO"
   ]
  },
  {
   "cell_type": "code",
   "execution_count": 17,
   "id": "b496b7d0-e4da-4148-a863-be76fc9b15c8",
   "metadata": {},
   "outputs": [
    {
     "name": "stdout",
     "output_type": "stream",
     "text": [
      "Training score :  0.5008409584159668\n",
      "R2 :  0.510383190381585 \n",
      "MSE:  0.6496869271044228 \n",
      " RMSE:  0.8060315918774045\n"
     ]
    }
   ],
   "source": [
    "lasso_regressor = Lasso(alpha = 0.2, fit_intercept= False, max_iter = 20000).fit(x_train, y_train)\n",
    "\n",
    "print(\"Training score : \", lasso_regressor.score(x_train, y_train))\n",
    "\n",
    "y_pred = lasso_regressor.predict(x_test)\n",
    "visualize_metrics(y_test, y_pred)"
   ]
  },
  {
   "cell_type": "code",
   "execution_count": 16,
   "id": "d6184c45-6b00-4170-b261-24a1a9076370",
   "metadata": {},
   "outputs": [
    {
     "name": "stdout",
     "output_type": "stream",
     "text": [
      "The best score 0.4983501284200035\n",
      "The best parameters {'alpha': 0.2, 'fit_intercept': False}\n"
     ]
    }
   ],
   "source": [
    "lasso_regressor_parameter = {'alpha': [0.2,0.4,0.6,0.8,1], 'fit_intercept': [True, False]}\n",
    "lasso_regressor_grid_search = GridSearchCV(Lasso(max_iter = 400000), lasso_regressor_parameter, cv = 2)\n",
    "lasso_regressor_grid_search.fit(X, Y)\n",
    "print('The best score',lasso_regressor_grid_search.best_score_)\n",
    "print('The best parameters',lasso_regressor_grid_search.best_params_)"
   ]
  },
  {
   "cell_type": "markdown",
   "id": "366db80c-4a94-442a-8ec0-7547063e1ac6",
   "metadata": {},
   "source": [
    "#### Ridge Regression"
   ]
  },
  {
   "cell_type": "code",
   "execution_count": 20,
   "id": "b2be9a53-af28-453f-b792-f16fff97a9b5",
   "metadata": {},
   "outputs": [
    {
     "name": "stdout",
     "output_type": "stream",
     "text": [
      "Training score :  0.605838964000722\n",
      "R2 :  0.6074043035287395 \n",
      "MSE:  0.5209467620885389 \n",
      " RMSE:  0.7217664179556561\n"
     ]
    }
   ],
   "source": [
    "ridge_regressor = Ridge(alpha = 0.2, fit_intercept= True, max_iter = 20000).fit(x_train, y_train)\n",
    "\n",
    "print(\"Training score : \", ridge_regressor.score(x_train, y_train))\n",
    "\n",
    "y_pred = ridge_regressor.predict(x_test)\n",
    "visualize_metrics(y_test, y_pred)"
   ]
  },
  {
   "cell_type": "code",
   "execution_count": 13,
   "id": "2ec92278-39b3-453d-bdf3-a71052ce844d",
   "metadata": {},
   "outputs": [
    {
     "name": "stdout",
     "output_type": "stream",
     "text": [
      "The best score 0.5720383415046448\n",
      "The best parameters {'alpha': 0.2, 'fit_intercept': True}\n"
     ]
    }
   ],
   "source": [
    "ridge_regressor_parameter = {'alpha': [0.2,0.4,0.6,0.8,1], 'fit_intercept': [True, False]}\n",
    "ridge_regressor_grid_search = GridSearchCV(Ridge(max_iter = 400000), ridge_regressor_parameter, cv = 2)\n",
    "ridge_regressor_grid_search.fit(X, Y)\n",
    "print('The best score',ridge_regressor_grid_search.best_score_)\n",
    "print('The best parameters',ridge_regressor_grid_search.best_params_)"
   ]
  },
  {
   "cell_type": "markdown",
   "id": "3f23f377-1e99-4518-9b91-8e4c73da2231",
   "metadata": {},
   "source": [
    "### Standartization"
   ]
  },
  {
   "cell_type": "code",
   "execution_count": 31,
   "id": "5d761d04-a829-4b99-8fc4-b431ff862d91",
   "metadata": {},
   "outputs": [],
   "source": [
    "scaler = preprocessing.StandardScaler()\n",
    "d = scaler.fit_transform(california_housing.frame)\n",
    "scaled_df = pd.DataFrame(d, columns=california_housing.frame.columns)"
   ]
  },
  {
   "cell_type": "code",
   "execution_count": 54,
   "id": "fe277c6e-86f2-440e-9f29-34309bfef6ec",
   "metadata": {},
   "outputs": [],
   "source": [
    "X = scaled_df.drop(columns = ['MedHouseVal']) # Features\n",
    "#Y = scaled_df['MedHouseVal'] # Target\n",
    "Y = california_housing.frame['MedHouseVal']\n",
    "x_train, x_test, y_train, y_test = train_test_split(X, Y, test_size = 0.2, random_state=45)"
   ]
  },
  {
   "cell_type": "markdown",
   "id": "32aeee49-e673-41a9-bf51-7137263c7969",
   "metadata": {},
   "source": [
    "#### Linear Regression"
   ]
  },
  {
   "cell_type": "code",
   "execution_count": 55,
   "id": "f44c3901-e857-425f-817d-b1eeb79b492b",
   "metadata": {},
   "outputs": [
    {
     "name": "stdout",
     "output_type": "stream",
     "text": [
      "Training score :  0.6058389654865454\n",
      "R2 :  0.6074054352929976 \n",
      "MSE:  0.5209452603172995 \n",
      " RMSE:  0.7217653776105497\n"
     ]
    }
   ],
   "source": [
    "from sklearn.linear_model import LinearRegression\n",
    "\n",
    "linear_regressor = LinearRegression(fit_intercept = True, copy_X = True).fit(x_train, y_train)\n",
    "\n",
    "print(\"Training score : \", linear_regressor.score(x_train, y_train))\n",
    "\n",
    "y_pred = linear_regressor.predict(x_test)\n",
    "visualize_metrics(y_test, y_pred)"
   ]
  },
  {
   "cell_type": "code",
   "execution_count": 56,
   "id": "49f60534-3c22-4a03-a6d1-a27c1b5caec8",
   "metadata": {},
   "outputs": [
    {
     "name": "stdout",
     "output_type": "stream",
     "text": [
      "The best score 0.5720433116500585\n",
      "The best parameters {'fit_intercept': True}\n"
     ]
    }
   ],
   "source": [
    "linear_regressor_parameter = {'fit_intercept': [True, False]}\n",
    "linear_regressor_grid_search = GridSearchCV(LinearRegression(), linear_regressor_parameter, cv = 2)\n",
    "linear_regressor_grid_search.fit(X, Y)\n",
    "print('The best score',linear_regressor_grid_search.best_score_)\n",
    "print('The best parameters',linear_regressor_grid_search.best_params_)"
   ]
  },
  {
   "cell_type": "markdown",
   "id": "e6f77bbf-3c84-4572-ba80-c40c097aaff9",
   "metadata": {},
   "source": [
    "#### LASSO"
   ]
  },
  {
   "cell_type": "code",
   "execution_count": 57,
   "id": "077ae53a-8ffa-470d-b6c0-a494947c7552",
   "metadata": {},
   "outputs": [
    {
     "name": "stdout",
     "output_type": "stream",
     "text": [
      "Training score :  -2.768823389299004\n",
      "R2 :  -2.7891290361209307 \n",
      "MSE:  5.0279066231368255 \n",
      " RMSE:  2.2422994053285628\n"
     ]
    }
   ],
   "source": [
    "lasso_regressor = Lasso(alpha = 0.2, fit_intercept= False, max_iter = 20000).fit(x_train, y_train)\n",
    "\n",
    "print(\"Training score : \", lasso_regressor.score(x_train, y_train))\n",
    "\n",
    "y_pred = lasso_regressor.predict(x_test)\n",
    "visualize_metrics(y_test, y_pred)"
   ]
  },
  {
   "cell_type": "code",
   "execution_count": 50,
   "id": "ed8c2b92-678b-438f-8d83-80972a4833ee",
   "metadata": {},
   "outputs": [
    {
     "name": "stdout",
     "output_type": "stream",
     "text": [
      "The best score 0.44478151701980545\n",
      "The best parameters {'alpha': 0.2, 'fit_intercept': True}\n"
     ]
    }
   ],
   "source": [
    "lasso_regressor_parameter = {'alpha': [0.2,0.4,0.6,0.8,1], 'fit_intercept': [True, False]}\n",
    "lasso_regressor_grid_search = GridSearchCV(Lasso(max_iter = 400000), lasso_regressor_parameter, cv = 2)\n",
    "lasso_regressor_grid_search.fit(X, Y)\n",
    "print('The best score',lasso_regressor_grid_search.best_score_)\n",
    "print('The best parameters',lasso_regressor_grid_search.best_params_)"
   ]
  },
  {
   "cell_type": "markdown",
   "id": "9ed8cb4c-3831-4d1a-8224-678c8a1efe20",
   "metadata": {},
   "source": [
    "#### Ridge Regression"
   ]
  },
  {
   "cell_type": "code",
   "execution_count": 47,
   "id": "c64ee490-80b2-461e-be5f-9871edd32d9d",
   "metadata": {},
   "outputs": [
    {
     "name": "stdout",
     "output_type": "stream",
     "text": [
      "Training score :  0.6043726934259184\n",
      "R2 :  0.6048561892912513 \n",
      "MSE:  0.5243279297207429 \n",
      " RMSE:  0.7241049162384847\n"
     ]
    }
   ],
   "source": [
    "ridge_regressor = Ridge(alpha = 0.2, fit_intercept= True, max_iter = 20000).fit(x_train, y_train)\n",
    "\n",
    "print(\"Training score : \", ridge_regressor.score(x_train, y_train))\n",
    "\n",
    "y_pred = ridge_regressor.predict(x_test)\n",
    "visualize_metrics(y_test, y_pred)"
   ]
  },
  {
   "cell_type": "code",
   "execution_count": 46,
   "id": "e599da37-5aff-468e-ad68-c9e11496972c",
   "metadata": {},
   "outputs": [
    {
     "name": "stdout",
     "output_type": "stream",
     "text": [
      "The best score 0.5668651843380306\n",
      "The best parameters {'alpha': 0.2, 'fit_intercept': True}\n"
     ]
    }
   ],
   "source": [
    "ridge_regressor_parameter = {'alpha': [0.2,0.4,0.6,0.8,1], 'fit_intercept': [True, False]}\n",
    "ridge_regressor_grid_search = GridSearchCV(Ridge(max_iter = 400000), ridge_regressor_parameter, cv = 2)\n",
    "ridge_regressor_grid_search.fit(X, Y)\n",
    "print('The best score',ridge_regressor_grid_search.best_score_)\n",
    "print('The best parameters',ridge_regressor_grid_search.best_params_)"
   ]
  },
  {
   "cell_type": "markdown",
   "id": "1bea9ea0-f4ef-4995-bb54-1a4ebf9d5179",
   "metadata": {},
   "source": [
    "### Normalization"
   ]
  },
  {
   "cell_type": "code",
   "execution_count": 39,
   "id": "6e6c18b5-738f-48e2-a03a-826f0f156a8c",
   "metadata": {},
   "outputs": [],
   "source": [
    "normalizer = preprocessing.MinMaxScaler()\n",
    "d = normalizer.fit_transform(california_housing.frame)\n",
    "normalized_df = pd.DataFrame(d, columns=california_housing.frame.columns)\n",
    "#print(normalized_df)"
   ]
  },
  {
   "cell_type": "code",
   "execution_count": 52,
   "id": "85c96adb-cdf4-4165-9eb9-877bbc20e4f8",
   "metadata": {},
   "outputs": [],
   "source": [
    "X = normalized_df.drop(columns = ['MedHouseVal']) # Features\n",
    "Y = california_housing.frame['MedHouseVal'] # Target\n",
    "\n",
    "x_train, x_test, y_train, y_test = train_test_split(X, Y, test_size = 0.2, random_state=45)"
   ]
  },
  {
   "cell_type": "markdown",
   "id": "36a8dcec-ad7a-48f3-9125-07e18b491379",
   "metadata": {},
   "source": [
    "#### Linear Regression"
   ]
  },
  {
   "cell_type": "code",
   "execution_count": 41,
   "id": "a95ed4f1-a53c-4820-8311-ab62cfc15406",
   "metadata": {},
   "outputs": [
    {
     "name": "stdout",
     "output_type": "stream",
     "text": [
      "Training score :  0.6058389654865455\n",
      "R2 :  0.6074054352929978 \n",
      "MSE:  0.022146496498591562 \n",
      " RMSE:  0.14881698995273207\n"
     ]
    }
   ],
   "source": [
    "linear_regressor = LinearRegression(fit_intercept = True, copy_X = True).fit(x_train, y_train)\n",
    "\n",
    "print(\"Training score : \", linear_regressor.score(x_train, y_train))\n",
    "\n",
    "y_pred = linear_regressor.predict(x_test)\n",
    "visualize_metrics(y_test, y_pred)"
   ]
  },
  {
   "cell_type": "code",
   "execution_count": null,
   "id": "a87c14fa-4c4a-4d9d-a4a9-3869fb84d2b1",
   "metadata": {},
   "outputs": [
    {
     "name": "stdout",
     "output_type": "stream",
     "text": [
      "The best score 0.572043311650059\n",
      "The best parameters {'fit_intercept': True}\n"
     ]
    }
   ],
   "source": [
    "linear_regressor_parameter = {'fit_intercept': [True, False]}\n",
    "linear_regressor_grid_search = GridSearchCV(LinearRegression(), linear_regressor_parameter, cv = 2)\n",
    "linear_regressor_grid_search.fit(X, Y)\n",
    "print('The best score',linear_regressor_grid_search.best_score_)\n",
    "print('The best parameters',linear_regressor_grid_search.best_params_)"
   ]
  },
  {
   "cell_type": "markdown",
   "id": "6f78a970-dbbf-48cc-a0e4-ba986c90ede0",
   "metadata": {},
   "source": [
    "#### LASSO"
   ]
  },
  {
   "cell_type": "code",
   "execution_count": 30,
   "id": "6018dedc-197d-45cf-b60f-e9b03f042a77",
   "metadata": {},
   "outputs": [
    {
     "name": "stdout",
     "output_type": "stream",
     "text": [
      "Training score :  0.0\n",
      "R2 :  -0.00012376056125318335 \n",
      "MSE:  0.056417585347770284 \n",
      " RMSE:  0.23752386269124684\n"
     ]
    }
   ],
   "source": [
    "lasso_regressor = Lasso(alpha = 0.2, fit_intercept= True, max_iter = 20000).fit(x_train, y_train)\n",
    "\n",
    "print(\"Training score : \", lasso_regressor.score(x_train, y_train))\n",
    "\n",
    "y_pred = lasso_regressor.predict(x_test)\n",
    "visualize_metrics(y_test, y_pred)"
   ]
  },
  {
   "cell_type": "code",
   "execution_count": 58,
   "id": "b4f3672b-4d11-4542-880e-01d6c3311a44",
   "metadata": {},
   "outputs": [
    {
     "name": "stdout",
     "output_type": "stream",
     "text": [
      "The best score -0.0007528673641564732\n",
      "The best parameters {'alpha': 0.2, 'fit_intercept': True}\n"
     ]
    }
   ],
   "source": [
    "lasso_regressor_parameter = {'alpha': [0.2,0.4,0.6,0.8,1], 'fit_intercept': [True, False]}\n",
    "lasso_regressor_grid_search = GridSearchCV(Lasso(max_iter = 400000), lasso_regressor_parameter, cv = 2)\n",
    "lasso_regressor_grid_search.fit(X, Y)\n",
    "print('The best score',lasso_regressor_grid_search.best_score_)\n",
    "print('The best parameters',lasso_regressor_grid_search.best_params_)"
   ]
  },
  {
   "cell_type": "markdown",
   "id": "e88eb9cd-6280-415e-bc63-5192f6dc8591",
   "metadata": {},
   "source": [
    "#### Ridge Regression"
   ]
  },
  {
   "cell_type": "code",
   "execution_count": 59,
   "id": "654eec39-b417-4ead-a1e9-5c043ffa3908",
   "metadata": {},
   "outputs": [
    {
     "name": "stdout",
     "output_type": "stream",
     "text": [
      "Training score :  0.6043726934259184\n",
      "R2 :  0.6048561892912513 \n",
      "MSE:  0.5243279297207429 \n",
      " RMSE:  0.7241049162384847\n"
     ]
    }
   ],
   "source": [
    "ridge_regressor = Ridge(alpha = 0.2, fit_intercept= True, max_iter = 20000).fit(x_train, y_train)\n",
    "\n",
    "print(\"Training score : \", ridge_regressor.score(x_train, y_train))\n",
    "\n",
    "y_pred = ridge_regressor.predict(x_test)\n",
    "visualize_metrics(y_test, y_pred)"
   ]
  },
  {
   "cell_type": "code",
   "execution_count": 60,
   "id": "5da61d07-e009-43a8-874f-5d58461a06b0",
   "metadata": {},
   "outputs": [
    {
     "name": "stdout",
     "output_type": "stream",
     "text": [
      "The best score 0.5668651843380306\n",
      "The best parameters {'alpha': 0.2, 'fit_intercept': True}\n"
     ]
    }
   ],
   "source": [
    "ridge_regressor_parameter = {'alpha': [0.2,0.4,0.6,0.8,1], 'fit_intercept': [True, False]}\n",
    "ridge_regressor_grid_search = GridSearchCV(Ridge(max_iter = 400000), ridge_regressor_parameter, cv = 2)\n",
    "ridge_regressor_grid_search.fit(X, Y)\n",
    "print('The best score',ridge_regressor_grid_search.best_score_)\n",
    "print('The best parameters',ridge_regressor_grid_search.best_params_)"
   ]
  },
  {
   "cell_type": "markdown",
   "id": "4f3aacd2-cbe3-4896-a152-c18c183e67bb",
   "metadata": {},
   "source": [
    "### Neural Network approach"
   ]
  },
  {
   "cell_type": "code",
   "execution_count": 53,
   "id": "0bff9d1d-ae9a-4ab3-98e0-f802a316ff9e",
   "metadata": {},
   "outputs": [
    {
     "name": "stdout",
     "output_type": "stream",
     "text": [
      "Training score :  0.8247275796352957\n",
      "R2 :  0.807983087159884 \n",
      "MSE:  0.2547928821161143 \n",
      " RMSE:  0.5047701279950254\n"
     ]
    },
    {
     "name": "stderr",
     "output_type": "stream",
     "text": [
      "C:\\Users\\Andrey\\anaconda3\\envs\\ev_2\\lib\\site-packages\\sklearn\\neural_network\\_multilayer_perceptron.py:536: ConvergenceWarning: lbfgs failed to converge (status=1):\n",
      "STOP: TOTAL NO. of f AND g EVALUATIONS EXCEEDS LIMIT.\n",
      "\n",
      "Increase the number of iterations (max_iter) or scale the data as shown in:\n",
      "    https://scikit-learn.org/stable/modules/preprocessing.html\n",
      "  self.n_iter_ = _check_optimize_result(\"lbfgs\", opt_res, self.max_iter)\n"
     ]
    }
   ],
   "source": [
    "nn_regressor = MLPRegressor(activation = 'relu', hidden_layer_sizes = (32,64,128,64,8), solver= 'lbfgs', max_iter= 20000).fit(x_train, y_train)\n",
    "\n",
    "print(\"Training score : \", nn_regressor.score(x_train, y_train))\n",
    "\n",
    "y_pred = nn_regressor.predict(x_test)\n",
    "visualize_metrics(y_test, y_pred)"
   ]
  },
  {
   "cell_type": "code",
   "execution_count": null,
   "id": "ada30aa4-1202-437c-8bd6-0031cd0679c5",
   "metadata": {},
   "outputs": [],
   "source": []
  }
 ],
 "metadata": {
  "kernelspec": {
   "display_name": "Python 3 (ipykernel)",
   "language": "python",
   "name": "python3"
  },
  "language_info": {
   "codemirror_mode": {
    "name": "ipython",
    "version": 3
   },
   "file_extension": ".py",
   "mimetype": "text/x-python",
   "name": "python",
   "nbconvert_exporter": "python",
   "pygments_lexer": "ipython3",
   "version": "3.9.12"
  }
 },
 "nbformat": 4,
 "nbformat_minor": 5
}
